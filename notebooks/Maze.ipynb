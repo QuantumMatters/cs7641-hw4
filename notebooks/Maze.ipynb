{
 "cells": [
  {
   "cell_type": "code",
   "execution_count": 32,
   "id": "1b06292c-3579-4d52-a1a7-25a3ffdce7e0",
   "metadata": {},
   "outputs": [],
   "source": [
    "from random import shuffle, randrange, random\n",
    "\n",
    "import pandas as pd\n",
    "import networkx as nx\n",
    " \n",
    "def make_maze(w = 16, h = 8):\n",
    "    vis = [[0] * w + [1] for _ in range(h)] + [[1] * (w + 1)]\n",
    "    ver = [[\"100\"] * w + ['1'] for _ in range(h)] + [[]]\n",
    "    hor = [[\"111\"] * w + ['1'] for _ in range(h + 1)]\n",
    " \n",
    "    def walk(x, y):\n",
    "        vis[y][x] = 1\n",
    " \n",
    "        d = [(x - 1, y), (x, y + 1), (x + 1, y), (x, y - 1)]\n",
    "        shuffle(d)\n",
    "        for (xx, yy) in d:\n",
    "            if vis[yy][xx]: continue\n",
    "            if xx == x: hor[max(y, yy)][x] = \"100\"\n",
    "            if yy == y: ver[y][max(x, xx)] = \"000\"\n",
    "            walk(xx, yy)\n",
    " \n",
    "    start = (randrange(w), randrange(h))\n",
    "    walk(*start)\n",
    " \n",
    "    maze_string = \"\"\n",
    "    for (a, b) in zip(hor, ver):\n",
    "        maze_string += ''.join(a + ['\\n'] + b + ['\\n'])\n",
    "    \n",
    "    return maze_string\n",
    "\n",
    "def make_maze_gridworld(w = 16, h = 8, break_p=0.05, hazard_p=0.05):\n",
    "    maze_string = make_maze(w, h).strip()\n",
    "    maze_string_split = maze_string.split(\"\\n\")\n",
    "    maze_array = []\n",
    "\n",
    "    # make graph to find maximum path (to set start and goal points)\n",
    "    G = nx.Graph()\n",
    "    node_id = 0\n",
    "    node_index_to_id_map = {}\n",
    "    \n",
    "    print(\"creating maze array\")\n",
    "    height = len(maze_string_split)\n",
    "    width = len(maze_string_split[0])\n",
    "    num_states = height * width\n",
    "    for row_number, line in enumerate(maze_string_split):\n",
    "        maze_line_array = [\"0\" for _ in range(width)]\n",
    "        for i, cell in enumerate(line):\n",
    "            if cell == \"1\":\n",
    "                # add random breaks\n",
    "                if random() <= break_p:\n",
    "                    maze_line_array[i] = \"0\"\n",
    "                    G.add_node(node_id)\n",
    "                    node_index_to_id_map[(row_number, i)] = node_id\n",
    "                    node_id += 1\n",
    "                else:\n",
    "                    maze_line_array[i] = \"1\"\n",
    "                    num_states -= 1\n",
    "            # add hazards haphazardly\n",
    "            elif maze_line_array[i] == \"0\" and random() <= hazard_p:\n",
    "                maze_line_array[i] = \"h\"\n",
    "                num_states -= 1\n",
    "                G.add_node(node_id)\n",
    "                node_index_to_id_map[(row_number, i)] = node_id\n",
    "                node_id += 1\n",
    "            else:\n",
    "                G.add_node(node_id)\n",
    "                node_index_to_id_map[(row_number, i)] = node_id\n",
    "                node_id += 1\n",
    "        maze_array.append(maze_line_array)\n",
    "\n",
    "    # add edges\n",
    "    print(\"adding edges\")\n",
    "    for (x,y), node_id in node_index_to_id_map.items():\n",
    "        neighbors = [(x - 1, y), (x, y + 1), (x + 1, y), (x, y - 1)]\n",
    "        for neighbor in neighbors:\n",
    "            neighbor_id = node_index_to_id_map.get(neighbor)\n",
    "            if neighbor_id:\n",
    "                G.add_edge(node_id, neighbor_id)\n",
    "    \n",
    "    # find two points with the longest shortest path\n",
    "    max_l = 0\n",
    "    start = None\n",
    "    goal = None\n",
    "    \n",
    "    print(\"finding start and goal\") \n",
    "    for (a,b), source in node_index_to_id_map.items():\n",
    "        for (c,d), target in node_index_to_id_map.items():\n",
    "            try:\n",
    "                l = nx.shortest_path_length(G, source, target)\n",
    "            except(nx.NetworkXNoPath):\n",
    "                continue\n",
    "            if l > max_l:\n",
    "                max_l = l\n",
    "                start = (a,b)\n",
    "                goal = (c,d)\n",
    "    \n",
    "    # set start and goal to be the two points in the graph with the longest shortest path\n",
    "    maze_array[start[0]][start[1]] = \"s\"\n",
    "    maze_array[goal[0]][goal[1]] = \"g\"\n",
    "        \n",
    "    return pd.DataFrame(data=maze_array).to_csv(index=False, header=False), num_states\n",
    "            "
   ]
  },
  {
   "cell_type": "code",
   "execution_count": 41,
   "id": "8b250f2b-4e0b-4f04-a582-286df53662c7",
   "metadata": {},
   "outputs": [
    {
     "name": "stdout",
     "output_type": "stream",
     "text": [
      "creating maze array\n",
      "adding edges\n",
      "finding start and goal\n"
     ]
    }
   ],
   "source": [
    "gw_csv, num_states = make_maze_gridworld(17,17)"
   ]
  },
  {
   "cell_type": "code",
   "execution_count": 42,
   "id": "e17a8c3d-1247-4472-8c39-35e287fc4eb2",
   "metadata": {},
   "outputs": [
    {
     "data": {
      "text/plain": [
       "991"
      ]
     },
     "execution_count": 42,
     "metadata": {},
     "output_type": "execute_result"
    }
   ],
   "source": [
    "num_states"
   ]
  },
  {
   "cell_type": "code",
   "execution_count": 43,
   "id": "f2c6e4d7-46ee-4e0b-a169-fe543d2b6c05",
   "metadata": {},
   "outputs": [
    {
     "name": "stdout",
     "output_type": "stream",
     "text": [
      "1,1,1,1,1,1,1,1,1,1,1,0,1,1,1,1,1,1,1,1,1,1,1,1,1,1,1,1,1,1,1,0,1,1,1,1,0,1,1,1,1,0,1,1,1,1,1,1,1,1,1,1\n",
      "0,0,0,0,0,0,0,0,h,0,0,0,0,h,0,0,0,0,0,0,0,0,0,0,0,0,0,h,0,0,1,h,0,0,0,0,0,0,0,0,0,0,1,0,0,0,0,0,0,0,0,1\n",
      "1,0,0,1,1,1,1,1,1,1,0,0,0,1,1,1,1,1,1,1,1,1,1,1,1,1,1,1,0,0,1,0,0,1,1,1,1,1,1,1,0,0,1,0,0,1,0,0,1,1,1,1\n",
      "1,0,0,0,0,0,0,0,0,1,0,0,0,0,0,0,0,0,0,0,0,1,s,0,0,0,0,0,0,0,1,0,0,1,0,0,0,0,h,1,0,0,h,h,0,1,0,0,0,0,0,1\n",
      "1,1,1,1,0,0,1,0,0,0,1,1,1,1,1,1,1,1,1,0,0,1,1,1,1,1,1,1,1,1,1,0,0,1,0,0,1,0,0,1,1,1,1,1,1,1,1,1,1,h,0,1\n",
      "1,0,0,0,0,0,1,0,0,0,0,0,0,0,0,0,0,0,1,0,0,0,0,0,0,0,0,0,0,0,h,0,0,1,0,0,1,0,0,0,0,0,0,0,0,1,0,0,0,0,0,1\n",
      "1,0,0,1,1,1,1,1,1,1,1,1,1,0,0,1,0,0,1,1,1,0,1,1,1,1,1,1,1,0,1,1,1,1,0,0,1,1,1,1,1,1,1,0,0,1,h,0,1,0,0,1\n",
      "1,0,0,1,0,0,0,0,0,0,0,0,1,0,h,1,0,0,0,0,0,1,0,0,0,0,0,0,h,0,0,0,0,1,0,0,0,0,0,0,0,0,1,0,0,0,0,0,1,0,0,1\n",
      "1,0,0,1,0,h,1,0,1,1,0,0,1,1,1,1,h,0,1,0,0,1,0,0,1,1,1,1,1,1,1,0,0,1,1,1,1,1,1,1,0,0,1,1,1,1,0,1,1,0,0,1\n",
      "1,0,0,0,0,0,1,0,0,0,0,h,1,0,0,0,h,0,1,0,0,1,0,0,1,0,0,0,0,0,1,0,0,0,0,0,h,0,0,1,0,0,1,0,0,0,0,0,1,0,0,1\n",
      "1,1,1,1,1,1,1,0,0,1,1,1,1,h,0,1,1,1,1,0,0,1,0,0,1,0,0,0,0,0,1,1,1,1,0,1,1,0,0,1,0,0,1,0,0,1,0,0,1,0,h,1\n",
      "1,0,0,0,0,0,1,0,0,0,0,0,0,h,0,1,0,h,1,0,0,1,0,0,0,0,0,1,0,h,0,0,0,0,0,0,1,0,0,0,0,0,1,0,0,1,0,0,0,0,0,1\n",
      "1,0,0,1,1,1,1,1,1,1,0,1,1,1,0,1,0,0,1,0,0,1,1,1,1,1,1,0,1,1,1,0,0,1,0,0,1,1,0,1,0,1,1,0,0,1,1,1,1,1,1,1\n",
      "1,0,0,0,0,0,1,0,0,0,0,0,0,0,0,0,0,0,0,0,0,1,0,0,0,0,0,1,0,0,0,0,0,1,0,0,h,0,0,0,0,0,0,0,0,1,0,0,0,0,0,1\n",
      "1,0,0,1,h,0,1,0,0,1,1,1,1,1,1,0,1,1,1,1,1,1,0,0,1,0,0,0,0,h,1,1,1,1,1,1,1,0,0,1,0,0,1,1,1,1,1,1,1,0,0,1\n",
      "1,0,0,1,0,h,1,h,0,1,0,0,0,0,0,0,0,0,0,0,0,0,0,0,1,h,0,1,0,0,0,0,0,0,0,0,1,0,0,1,0,0,1,0,0,0,0,0,0,0,0,1\n",
      "1,0,0,1,0,0,1,0,0,1,0,0,1,0,0,1,1,1,1,0,0,1,1,1,1,1,1,1,1,1,1,1,0,0,0,h,1,0,0,1,0,0,1,1,1,1,h,0,0,0,0,1\n",
      "1,0,0,1,0,0,0,0,0,1,0,0,1,0,0,0,0,0,1,0,0,1,0,0,0,0,0,0,0,0,0,0,0,0,0,0,1,0,0,1,0,0,0,0,0,0,0,0,1,0,0,1\n",
      "1,0,0,1,1,1,1,1,1,1,1,1,1,1,1,1,0,0,0,1,1,1,0,0,1,0,0,1,0,0,1,1,1,1,1,1,1,0,0,1,1,1,1,0,1,1,1,1,1,0,0,0\n",
      "1,h,0,0,0,0,0,0,0,0,0,0,0,0,0,0,0,0,1,0,0,0,0,0,1,0,h,1,0,h,1,0,0,0,0,0,0,0,0,1,0,0,h,0,0,0,0,0,0,0,0,1\n",
      "1,0,0,1,0,0,1,0,0,1,1,1,1,0,1,0,0,0,1,0,0,1,1,1,1,0,0,1,0,0,1,1,1,1,1,1,1,0,0,1,0,0,1,1,1,1,1,1,1,0,1,1\n",
      "1,0,0,0,h,0,1,0,0,1,0,h,0,0,0,1,0,0,1,0,h,1,0,0,1,0,0,1,0,0,1,0,0,0,0,0,1,0,0,0,0,0,1,h,0,0,0,0,1,0,0,1\n",
      "1,0,0,1,0,0,1,0,0,1,0,0,1,0,0,1,1,1,1,0,0,1,0,0,1,0,0,0,0,0,1,0,0,1,0,0,1,1,1,1,1,1,1,0,0,1,0,0,1,0,0,1\n",
      "1,0,0,1,0,h,1,0,0,0,h,0,1,0,0,1,0,0,0,0,0,1,0,0,1,0,0,1,0,0,0,0,0,1,0,0,0,0,0,0,h,0,0,0,0,1,0,0,0,0,0,1\n",
      "1,0,0,1,1,0,1,1,1,1,0,1,1,0,0,1,0,0,1,1,1,1,0,0,1,0,0,1,1,1,1,1,1,1,1,1,1,1,1,1,1,1,1,1,1,1,1,1,1,1,1,1\n",
      "1,0,0,0,0,0,0,0,0,0,0,0,1,0,0,0,0,0,0,h,0,0,0,0,1,0,0,0,0,0,0,0,0,0,0,0,0,0,0,0,0,0,1,0,0,0,0,0,0,0,0,1\n",
      "1,1,1,0,1,1,1,1,1,1,0,0,1,0,1,1,1,1,1,1,1,0,0,0,1,1,1,0,1,1,1,h,0,1,1,1,1,1,1,0,0,0,1,0,1,1,1,1,1,h,0,1\n",
      "1,0,h,0,0,0,1,0,0,0,0,0,1,0,0,0,0,0,1,0,0,0,0,0,0,0,0,1,0,h,0,0,0,1,h,0,0,0,0,0,0,0,1,0,h,0,0,h,0,0,0,1\n",
      "1,0,0,1,0,0,1,0,h,1,1,1,1,0,0,1,0,0,1,1,1,1,1,1,1,1,1,1,0,0,1,1,1,1,1,1,1,1,1,1,0,0,1,0,0,1,1,1,1,0,0,1\n",
      "1,0,0,1,0,0,0,0,0,1,0,0,0,0,0,1,0,0,0,0,0,0,h,0,0,0,0,1,0,0,0,0,0,0,0,0,0,0,0,1,0,h,0,0,0,1,0,0,0,0,0,1\n",
      "1,h,0,1,1,1,1,1,1,1,1,1,1,0,0,1,1,1,0,1,1,1,1,1,1,0,0,1,1,1,1,1,1,1,1,1,1,0,h,1,1,1,1,1,1,1,0,0,1,0,1,1\n",
      "1,0,0,0,0,0,0,h,0,0,0,0,1,0,0,1,0,0,0,0,0,0,0,0,1,0,0,0,0,0,0,0,h,0,0,0,1,0,0,0,0,0,0,0,0,1,0,0,1,0,0,1\n",
      "1,1,1,1,1,1,1,1,1,1,0,0,1,0,0,1,0,0,1,1,1,1,1,1,1,0,0,1,0,0,1,0,0,1,0,0,1,1,1,1,1,1,1,0,0,1,0,0,1,0,0,0\n",
      "1,0,0,0,0,0,0,0,0,0,0,0,0,0,0,1,0,0,0,0,h,0,0,0,0,0,h,0,0,0,1,0,0,0,0,0,0,0,0,0,0,0,0,0,0,1,g,0,0,0,0,1\n",
      "1,1,1,1,1,1,1,1,1,1,1,1,1,1,1,1,1,1,1,1,1,1,1,1,0,1,1,1,1,1,1,1,1,1,0,1,1,1,1,1,1,1,0,1,1,1,1,1,1,1,1,1\n",
      "\n"
     ]
    }
   ],
   "source": [
    "print(gw_csv)"
   ]
  },
  {
   "cell_type": "code",
   "execution_count": 44,
   "id": "a4f8c076-5fc8-4d00-a295-34d15a7e7ea8",
   "metadata": {},
   "outputs": [],
   "source": [
    "with open(\"maze9.csv\", \"w\") as f:\n",
    "    f.write(gw_csv)"
   ]
  },
  {
   "cell_type": "code",
   "execution_count": 7,
   "id": "9e05d880-78e3-47b6-b7af-a17e6e29e23e",
   "metadata": {},
   "outputs": [],
   "source": [
    "x = 5\n",
    "y = 3\n",
    "d = [(x - 1, y), (x, y + 1), (x + 1, y), (x, y - 1)]\n",
    "shuffle(d)"
   ]
  },
  {
   "cell_type": "code",
   "execution_count": 8,
   "id": "3ff3fa43-05ce-428b-9d8b-b75f7525ab1b",
   "metadata": {},
   "outputs": [
    {
     "data": {
      "text/plain": [
       "[(4, 3), (5, 2), (5, 4), (6, 3)]"
      ]
     },
     "execution_count": 8,
     "metadata": {},
     "output_type": "execute_result"
    }
   ],
   "source": [
    "d"
   ]
  },
  {
   "cell_type": "code",
   "execution_count": 30,
   "id": "9df5ecd2-27e3-49e9-ae7c-91beb3fe3ac1",
   "metadata": {},
   "outputs": [
    {
     "ename": "TypeError",
     "evalue": "'str' object does not support item assignment",
     "output_type": "error",
     "traceback": [
      "\u001b[0;31m---------------------------------------------------------------------------\u001b[0m",
      "\u001b[0;31mTypeError\u001b[0m                                 Traceback (most recent call last)",
      "\u001b[0;32m/var/folders/ll/jkk7v3g53hg75wx742h7dk080000gn/T/ipykernel_30863/2055106797.py\u001b[0m in \u001b[0;36m<module>\u001b[0;34m\u001b[0m\n\u001b[0;32m----> 1\u001b[0;31m \u001b[0mprint\u001b[0m\u001b[0;34m(\u001b[0m\u001b[0mmake_maze\u001b[0m\u001b[0;34m(\u001b[0m\u001b[0;36m15\u001b[0m\u001b[0;34m,\u001b[0m \u001b[0;36m15\u001b[0m\u001b[0;34m)\u001b[0m\u001b[0;34m)\u001b[0m\u001b[0;34m\u001b[0m\u001b[0;34m\u001b[0m\u001b[0m\n\u001b[0m",
      "\u001b[0;32m/var/folders/ll/jkk7v3g53hg75wx742h7dk080000gn/T/ipykernel_30863/1735885837.py\u001b[0m in \u001b[0;36mmake_maze\u001b[0;34m(w, h, break_p, hazard_p)\u001b[0m\n\u001b[1;32m     28\u001b[0m             \u001b[0ms\u001b[0m\u001b[0;34m[\u001b[0m\u001b[0mi\u001b[0m\u001b[0;34m]\u001b[0m \u001b[0;34m=\u001b[0m \u001b[0;34m\"0\"\u001b[0m\u001b[0;34m\u001b[0m\u001b[0;34m\u001b[0m\u001b[0m\n\u001b[1;32m     29\u001b[0m         \u001b[0;32mif\u001b[0m \u001b[0ms\u001b[0m\u001b[0;34m[\u001b[0m\u001b[0mi\u001b[0m\u001b[0;34m]\u001b[0m \u001b[0;34m==\u001b[0m \u001b[0;34m\"0\"\u001b[0m \u001b[0;32mand\u001b[0m \u001b[0mrandom\u001b[0m\u001b[0;34m(\u001b[0m\u001b[0;34m)\u001b[0m \u001b[0;34m<=\u001b[0m \u001b[0mhazard_p\u001b[0m\u001b[0;34m:\u001b[0m\u001b[0;34m\u001b[0m\u001b[0;34m\u001b[0m\u001b[0m\n\u001b[0;32m---> 30\u001b[0;31m             \u001b[0ms\u001b[0m\u001b[0;34m[\u001b[0m\u001b[0mi\u001b[0m\u001b[0;34m]\u001b[0m \u001b[0;34m=\u001b[0m \u001b[0;34m\"h\"\u001b[0m\u001b[0;34m\u001b[0m\u001b[0;34m\u001b[0m\u001b[0m\n\u001b[0m\u001b[1;32m     31\u001b[0m \u001b[0;34m\u001b[0m\u001b[0m\n\u001b[1;32m     32\u001b[0m     \u001b[0;32mreturn\u001b[0m \u001b[0ms\u001b[0m\u001b[0;34m\u001b[0m\u001b[0;34m\u001b[0m\u001b[0m\n",
      "\u001b[0;31mTypeError\u001b[0m: 'str' object does not support item assignment"
     ]
    }
   ],
   "source": [
    "print(make_maze(15, 15))"
   ]
  },
  {
   "cell_type": "code",
   "execution_count": 17,
   "id": "5051d485-37c5-4260-be07-cf577971bffd",
   "metadata": {},
   "outputs": [],
   "source": [
    "import math"
   ]
  },
  {
   "cell_type": "code",
   "execution_count": 29,
   "id": "6366ebbe-3e37-47ca-95d9-f25761150144",
   "metadata": {},
   "outputs": [
    {
     "name": "stdout",
     "output_type": "stream",
     "text": [
      "84\n",
      "83\n",
      "84\n",
      "[1, 13, 25, 37, 49, 61, 73, 85, 97, 109, 121, 133, 145, 157, 169, 181, 193, 205, 217, 229, 241, 253, 265, 277, 289, 301, 313, 325, 337, 349, 361, 373, 385, 397, 409, 421, 433, 445, 457, 469, 481, 493, 505, 517, 529, 541, 553, 565, 577, 589, 601, 613, 625, 637, 649, 661, 673, 685, 697, 709, 721, 733, 745, 757, 769, 781, 793, 805, 817, 829, 841, 853, 865, 877, 889, 901, 913, 925, 937, 949, 961, 973, 985, 997]\n"
     ]
    }
   ],
   "source": [
    "max_iter = 1000\n",
    "step_size = 12\n",
    "\n",
    "print(math.ceil((max_iter - 1) / step_size))\n",
    "print((max_iter - 1) // step_size)\n",
    "r = list(range(1, max_iter, step_size))\n",
    "print(len(r))\n",
    "print(r)"
   ]
  },
  {
   "cell_type": "code",
   "execution_count": 31,
   "id": "535cc283-b007-4b49-b254-87c927151a44",
   "metadata": {},
   "outputs": [
    {
     "data": {
      "text/plain": [
       "[1, 1, 1, 1, 1, 1, 1, 1, 1, 1, 0, 0]"
      ]
     },
     "execution_count": 31,
     "metadata": {},
     "output_type": "execute_result"
    }
   ],
   "source": [
    "[1] * 10 + [0] * 2"
   ]
  },
  {
   "cell_type": "code",
   "execution_count": null,
   "id": "dfca5bdc-2d12-412e-acb4-3d41cbaf4eaa",
   "metadata": {},
   "outputs": [],
   "source": []
  }
 ],
 "metadata": {
  "kernelspec": {
   "display_name": "Python 3 (ipykernel)",
   "language": "python",
   "name": "python3"
  },
  "language_info": {
   "codemirror_mode": {
    "name": "ipython",
    "version": 3
   },
   "file_extension": ".py",
   "mimetype": "text/x-python",
   "name": "python",
   "nbconvert_exporter": "python",
   "pygments_lexer": "ipython3",
   "version": "3.9.7"
  }
 },
 "nbformat": 4,
 "nbformat_minor": 5
}
