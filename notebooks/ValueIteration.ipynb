{
 "cells": [
  {
   "cell_type": "code",
   "execution_count": 1,
   "id": "12df2d9d-5d8b-4698-be18-aaeac75cd3da",
   "metadata": {},
   "outputs": [],
   "source": [
    "%load_ext autoreload\n",
    "%autoreload 2"
   ]
  },
  {
   "cell_type": "code",
   "execution_count": 11,
   "id": "286ce33c-3dc0-4adb-9cbe-0b33485d997f",
   "metadata": {},
   "outputs": [],
   "source": [
    "import matplotlib.pyplot as plt\n",
    "import numpy as np\n",
    "\n",
    "import hiive\n",
    "from hiive.examples.firemdp import getTransitionAndRewardArrays"
   ]
  },
  {
   "cell_type": "code",
   "execution_count": 30,
   "id": "a5c79ec3-16b9-4c17-b359-95a2a432e09c",
   "metadata": {},
   "outputs": [
    {
     "name": "stdout",
     "output_type": "stream",
     "text": [
      "0\n",
      "1\n",
      "2\n",
      "3\n",
      "4\n",
      "5\n",
      "6\n",
      "7\n",
      "8\n",
      "9\n"
     ]
    },
    {
     "data": {
      "text/plain": [
       "<matplotlib.legend.Legend at 0x7fdaa4f6d520>"
      ]
     },
     "execution_count": 30,
     "metadata": {},
     "output_type": "execute_result"
    },
    {
     "data": {
      "image/png": "[encoded data removed]",
      "text/plain": [
       "<Figure size 432x288 with 1 Axes>"
      ]
     },
     "metadata": {
      "needs_background": "light"
     },
     "output_type": "display_data"
    }
   ],
   "source": [
    "P, R = getTransitionAndRewardArrays(0.1)\n",
    "\n",
    "average_meanV_per_episode = []\n",
    "average_Reward_per_episode = []\n",
    "planner = hiive.mdptoolbox.mdp.ValueIteration(P, R, 0.9, max_iter=1e100, epsilon=1e-99)\n",
    "for episode in range(10):\n",
    "    print(episode)\n",
    "    run_stats = planner.run()\n",
    "    average_meanV_per_episode.append(np.mean([x[\"Mean V\"] for x in run_stats]))\n",
    "    average_Reward_per_episode.append(np.mean([x[\"Reward\"] for x in run_stats]))\n",
    "\n",
    "plt.plot(average_meanV_per_episode, label=\"Mean V\")\n",
    "plt.plot(average_Reward_per_episode, label=\"Reward\")\n",
    "plt.legend()"
   ]
  },
  {
   "cell_type": "code",
   "execution_count": null,
   "id": "ee3ee72b-dce9-4929-b947-58891d2145b5",
   "metadata": {},
   "outputs": [],
   "source": []
  },
  {
   "cell_type": "code",
   "execution_count": null,
   "id": "837c199c-ed6f-4e47-bf8a-a252ab36ce71",
   "metadata": {},
   "outputs": [],
   "source": []
  },
  {
   "cell_type": "code",
   "execution_count": null,
   "id": "c2b56532-5141-45f0-bd1c-268880e2351e",
   "metadata": {},
   "outputs": [],
   "source": []
  }
 ],
 "metadata": {
  "kernelspec": {
   "display_name": "Python 3 (ipykernel)",
   "language": "python",
   "name": "python3"
  },
  "language_info": {
   "codemirror_mode": {
    "name": "ipython",
    "version": 3
   },
   "file_extension": ".py",
   "mimetype": "text/x-python",
   "name": "python",
   "nbconvert_exporter": "python",
   "pygments_lexer": "ipython3",
   "version": "3.9.7"
  }
 },
 "nbformat": 4,
 "nbformat_minor": 5
}
